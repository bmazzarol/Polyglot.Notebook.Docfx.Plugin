{
 "cells": [
  {
   "cell_type": "markdown",
   "metadata": {},
   "source": [
    "# How to dynamically update cell content?\n",
    "\n",
    "The `display()` function allows for updating from an async data source."
   ]
  },
  {
   "cell_type": "code",
   "execution_count": 4,
   "metadata": {
    "polyglot_notebook": {
     "kernelName": "csharp"
    },
    "vscode": {
     "languageId": "polyglot-notebook"
    }
   },
   "outputs": [
    {
     "data": {
      "text/plain": [
       "done!"
      ]
     },
     "metadata": {},
     "output_type": "display_data"
    },
    {
     "data": {
      "text/plain": [
       "item 9"
      ]
     },
     "metadata": {},
     "output_type": "display_data"
    }
   ],
   "source": [
    "var title = display(\"querying...\");\n",
    "\n",
    "var currentDisplay = display(\"starting...\");\n",
    "\n",
    "async IAsyncEnumerable<string> Items(){\n",
    "    for (int i = 0; i < 10; i++){\n",
    "        yield return $\"item {i}\";\n",
    "        await Task.Delay(1000);\n",
    "    }\n",
    "}\n",
    "\n",
    "await foreach (var item in Items()){\n",
    "    currentDisplay.Update(item);\n",
    "}\n",
    "\n",
    "title.Update(\"done!\");\n"
   ]
  },
  {
   "cell_type": "markdown",
   "metadata": {},
   "source": [
    "This applies to any custom display output, for example a `IEnumerable` of content.\n",
    "\n",
    "So in this case we will render an async source of data over and over again, replacing the table output each time."
   ]
  },
  {
   "cell_type": "code",
   "execution_count": 5,
   "metadata": {
    "polyglot_notebook": {
     "kernelName": "csharp"
    },
    "vscode": {
     "languageId": "polyglot-notebook"
    }
   },
   "outputs": [
    {
     "data": {
      "text/plain": [
       "A complete list of widgets:"
      ]
     },
     "metadata": {},
     "output_type": "display_data"
    },
    {
     "data": {
      "text/html": [
       "<table><thead><tr><th><i>index</i></th><th>value</th></tr></thead><tbody><tr><td>0</td><td><details class=\"dni-treeview\"><summary><span class=\"dni-code-hint\"><code>Widget { Name = widget 0, Value = 0 }</code></span></summary><div><table><thead><tr></tr></thead><tbody><tr><td>Name</td><td><div class=\"dni-plaintext\"><pre>widget 0</pre></div></td></tr><tr><td>Value</td><td><div class=\"dni-plaintext\"><pre>0</pre></div></td></tr></tbody></table></div></details></td></tr><tr><td>1</td><td><details class=\"dni-treeview\"><summary><span class=\"dni-code-hint\"><code>Widget { Name = widget 1, Value = 1 }</code></span></summary><div><table><thead><tr></tr></thead><tbody><tr><td>Name</td><td><div class=\"dni-plaintext\"><pre>widget 1</pre></div></td></tr><tr><td>Value</td><td><div class=\"dni-plaintext\"><pre>1</pre></div></td></tr></tbody></table></div></details></td></tr><tr><td>2</td><td><details class=\"dni-treeview\"><summary><span class=\"dni-code-hint\"><code>Widget { Name = widget 2, Value = 2 }</code></span></summary><div><table><thead><tr></tr></thead><tbody><tr><td>Name</td><td><div class=\"dni-plaintext\"><pre>widget 2</pre></div></td></tr><tr><td>Value</td><td><div class=\"dni-plaintext\"><pre>2</pre></div></td></tr></tbody></table></div></details></td></tr><tr><td>3</td><td><details class=\"dni-treeview\"><summary><span class=\"dni-code-hint\"><code>Widget { Name = widget 3, Value = 3 }</code></span></summary><div><table><thead><tr></tr></thead><tbody><tr><td>Name</td><td><div class=\"dni-plaintext\"><pre>widget 3</pre></div></td></tr><tr><td>Value</td><td><div class=\"dni-plaintext\"><pre>3</pre></div></td></tr></tbody></table></div></details></td></tr><tr><td>4</td><td><details class=\"dni-treeview\"><summary><span class=\"dni-code-hint\"><code>Widget { Name = widget 4, Value = 4 }</code></span></summary><div><table><thead><tr></tr></thead><tbody><tr><td>Name</td><td><div class=\"dni-plaintext\"><pre>widget 4</pre></div></td></tr><tr><td>Value</td><td><div class=\"dni-plaintext\"><pre>4</pre></div></td></tr></tbody></table></div></details></td></tr><tr><td>5</td><td><details class=\"dni-treeview\"><summary><span class=\"dni-code-hint\"><code>Widget { Name = widget 5, Value = 5 }</code></span></summary><div><table><thead><tr></tr></thead><tbody><tr><td>Name</td><td><div class=\"dni-plaintext\"><pre>widget 5</pre></div></td></tr><tr><td>Value</td><td><div class=\"dni-plaintext\"><pre>5</pre></div></td></tr></tbody></table></div></details></td></tr><tr><td>6</td><td><details class=\"dni-treeview\"><summary><span class=\"dni-code-hint\"><code>Widget { Name = widget 6, Value = 6 }</code></span></summary><div><table><thead><tr></tr></thead><tbody><tr><td>Name</td><td><div class=\"dni-plaintext\"><pre>widget 6</pre></div></td></tr><tr><td>Value</td><td><div class=\"dni-plaintext\"><pre>6</pre></div></td></tr></tbody></table></div></details></td></tr><tr><td>7</td><td><details class=\"dni-treeview\"><summary><span class=\"dni-code-hint\"><code>Widget { Name = widget 7, Value = 7 }</code></span></summary><div><table><thead><tr></tr></thead><tbody><tr><td>Name</td><td><div class=\"dni-plaintext\"><pre>widget 7</pre></div></td></tr><tr><td>Value</td><td><div class=\"dni-plaintext\"><pre>7</pre></div></td></tr></tbody></table></div></details></td></tr><tr><td>8</td><td><details class=\"dni-treeview\"><summary><span class=\"dni-code-hint\"><code>Widget { Name = widget 8, Value = 8 }</code></span></summary><div><table><thead><tr></tr></thead><tbody><tr><td>Name</td><td><div class=\"dni-plaintext\"><pre>widget 8</pre></div></td></tr><tr><td>Value</td><td><div class=\"dni-plaintext\"><pre>8</pre></div></td></tr></tbody></table></div></details></td></tr><tr><td>9</td><td><details class=\"dni-treeview\"><summary><span class=\"dni-code-hint\"><code>Widget { Name = widget 9, Value = 9 }</code></span></summary><div><table><thead><tr></tr></thead><tbody><tr><td>Name</td><td><div class=\"dni-plaintext\"><pre>widget 9</pre></div></td></tr><tr><td>Value</td><td><div class=\"dni-plaintext\"><pre>9</pre></div></td></tr></tbody></table></div></details></td></tr></tbody></table><style>\r\n",
       ".dni-code-hint {\r\n",
       "    font-style: italic;\r\n",
       "    overflow: hidden;\r\n",
       "    white-space: nowrap;\r\n",
       "}\r\n",
       ".dni-treeview {\r\n",
       "    white-space: nowrap;\r\n",
       "}\r\n",
       ".dni-treeview td {\r\n",
       "    vertical-align: top;\r\n",
       "    text-align: start;\r\n",
       "}\r\n",
       "details.dni-treeview {\r\n",
       "    padding-left: 1em;\r\n",
       "}\r\n",
       "table td {\r\n",
       "    text-align: start;\r\n",
       "}\r\n",
       "table tr { \r\n",
       "    vertical-align: top; \r\n",
       "    margin: 0em 0px;\r\n",
       "}\r\n",
       "table tr td pre \r\n",
       "{ \r\n",
       "    vertical-align: top !important; \r\n",
       "    margin: 0em 0px !important;\r\n",
       "} \r\n",
       "table th {\r\n",
       "    text-align: start;\r\n",
       "}\r\n",
       "</style>"
      ]
     },
     "metadata": {},
     "output_type": "display_data"
    }
   ],
   "source": [
    "var title = display(\"querying...\");\n",
    "\n",
    "// some custom record\n",
    "record Widget(string Name, int Value);\n",
    "\n",
    "// some async source of widgets\n",
    "async IAsyncEnumerable<Widget> Widgets(){\n",
    "    for (int i = 0; i < 10; i++){\n",
    "        yield return new Widget($\"widget {i}\", i);\n",
    "        await Task.Delay(1000);\n",
    "    }\n",
    "}\n",
    "\n",
    "var widgets = new List<Widget>();\n",
    "var currentDisplay = display(widgets);\n",
    "// display the widgets as they are produced, appending to the table output\n",
    "await foreach (var widget in Widgets()){\n",
    "    widgets.Add(widget);\n",
    "    currentDisplay.Update(widgets); // render all collected widgets so far\n",
    "}\n",
    "\n",
    "title.Update(\"A complete list of widgets:\");"
   ]
  },
  {
   "cell_type": "markdown",
   "metadata": {},
   "source": [
    "We can also use the `Dataframe` type to produce a better displayed result out of our widgets type."
   ]
  },
  {
   "cell_type": "code",
   "execution_count": 3,
   "metadata": {
    "polyglot_notebook": {
     "kernelName": "csharp"
    },
    "vscode": {
     "languageId": "polyglot-notebook"
    }
   },
   "outputs": [
    {
     "data": {
      "text/html": [
       "<div><div></div><div></div><div><strong>Installed Packages</strong><ul><li><span>Microsoft.Data.Analysis, 0.22.2</span></li></ul></div></div>"
      ]
     },
     "metadata": {},
     "output_type": "display_data"
    },
    {
     "data": {
      "text/plain": [
       "Loading extensions from `{UserProfile}\\.nuget\\packages\\microsoft.data.analysis\\0.22.2\\interactive-extensions\\dotnet\\Microsoft.Data.Analysis.Interactive.dll`"
      ]
     },
     "metadata": {},
     "output_type": "display_data"
    },
    {
     "data": {
      "text/plain": [
       "A complete list of widgets:"
      ]
     },
     "metadata": {},
     "output_type": "display_data"
    },
    {
     "data": {
      "text/html": [
       "<table id=\"table_638784077199149971\"><thead><tr><th><i>index</i></th><th>Name</th><th>Age</th></tr></thead><tbody><tr><td><i><div class=\"dni-plaintext\"><pre>0</pre></div></i></td><td>widget 0</td><td><div class=\"dni-plaintext\"><pre>0</pre></div></td></tr><tr><td><i><div class=\"dni-plaintext\"><pre>1</pre></div></i></td><td>widget 1</td><td><div class=\"dni-plaintext\"><pre>1</pre></div></td></tr><tr><td><i><div class=\"dni-plaintext\"><pre>2</pre></div></i></td><td>widget 2</td><td><div class=\"dni-plaintext\"><pre>2</pre></div></td></tr><tr><td><i><div class=\"dni-plaintext\"><pre>3</pre></div></i></td><td>widget 3</td><td><div class=\"dni-plaintext\"><pre>3</pre></div></td></tr><tr><td><i><div class=\"dni-plaintext\"><pre>4</pre></div></i></td><td>widget 4</td><td><div class=\"dni-plaintext\"><pre>4</pre></div></td></tr><tr><td><i><div class=\"dni-plaintext\"><pre>5</pre></div></i></td><td>widget 5</td><td><div class=\"dni-plaintext\"><pre>5</pre></div></td></tr><tr><td><i><div class=\"dni-plaintext\"><pre>6</pre></div></i></td><td>widget 6</td><td><div class=\"dni-plaintext\"><pre>6</pre></div></td></tr><tr><td><i><div class=\"dni-plaintext\"><pre>7</pre></div></i></td><td>widget 7</td><td><div class=\"dni-plaintext\"><pre>7</pre></div></td></tr><tr><td><i><div class=\"dni-plaintext\"><pre>8</pre></div></i></td><td>widget 8</td><td><div class=\"dni-plaintext\"><pre>8</pre></div></td></tr><tr><td><i><div class=\"dni-plaintext\"><pre>9</pre></div></i></td><td>widget 9</td><td><div class=\"dni-plaintext\"><pre>9</pre></div></td></tr></tbody></table><style>\r\n",
       ".dni-code-hint {\r\n",
       "    font-style: italic;\r\n",
       "    overflow: hidden;\r\n",
       "    white-space: nowrap;\r\n",
       "}\r\n",
       ".dni-treeview {\r\n",
       "    white-space: nowrap;\r\n",
       "}\r\n",
       ".dni-treeview td {\r\n",
       "    vertical-align: top;\r\n",
       "    text-align: start;\r\n",
       "}\r\n",
       "details.dni-treeview {\r\n",
       "    padding-left: 1em;\r\n",
       "}\r\n",
       "table td {\r\n",
       "    text-align: start;\r\n",
       "}\r\n",
       "table tr { \r\n",
       "    vertical-align: top; \r\n",
       "    margin: 0em 0px;\r\n",
       "}\r\n",
       "table tr td pre \r\n",
       "{ \r\n",
       "    vertical-align: top !important; \r\n",
       "    margin: 0em 0px !important;\r\n",
       "} \r\n",
       "table th {\r\n",
       "    text-align: start;\r\n",
       "}\r\n",
       "</style>"
      ]
     },
     "metadata": {},
     "output_type": "display_data"
    }
   ],
   "source": [
    "#r \"nuget:Microsoft.Data.Analysis,0.22.2\"\n",
    "\n",
    "using Microsoft.Data.Analysis;\n",
    "\n",
    "var nameColumn = new StringDataFrameColumn(\"Name\");\n",
    "var ageColumn = new Int32DataFrameColumn(\"Age\");\n",
    "\n",
    "// we loop through the data and add it to the columns and redraw the dataframe each time\n",
    "var title = display(\"querying...\");\n",
    "var currentDisplay = display(new DataFrame(nameColumn, ageColumn));\n",
    "await foreach (var widget in Widgets()){\n",
    "    nameColumn.Append(widget.Name);\n",
    "    ageColumn.Append(widget.Value);\n",
    "    currentDisplay.Update(new DataFrame(nameColumn, ageColumn));\n",
    "}\n",
    "\n",
    "title.Update(\"A complete list of widgets:\");"
   ]
  }
 ],
 "metadata": {
  "kernelspec": {
   "display_name": ".NET (C#)",
   "language": "C#",
   "name": ".net-csharp"
  },
  "language_info": {
   "name": "python"
  },
  "polyglot_notebook": {
   "kernelInfo": {
    "defaultKernelName": "csharp",
    "items": [
     {
      "aliases": [],
      "name": "csharp"
     }
    ]
   }
  }
 },
 "nbformat": 4,
 "nbformat_minor": 2
}
