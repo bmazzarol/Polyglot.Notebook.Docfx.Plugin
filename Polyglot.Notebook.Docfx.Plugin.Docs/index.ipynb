{
 "cells": [
  {
   "cell_type": "markdown",
   "metadata": {},
   "source": [
    "<!-- markdownlint-disable MD033 MD041 -->\n",
    "<div align=\"center\">\n",
    "\n",
    "<img src=\"images/notebook-icon.png\" alt=\"Polyglot.Notebook.Docfx.Plugin\" width=\"150px\"/>\n",
    "\n",
    "# Polyglot Notebook Docfx Plugin\n",
    "\n",
    "---\n",
    "\n",
    "[![Nuget](https://img.shields.io/nuget/v/Polyglot.Notebook.Docfx.Plugin)](https://www.nuget.org/packages/Polyglot.Notebook.Docfx.Plugin/)\n",
    "[![Coverage](https://sonarcloud.io/api/project_badges/measure?project=bmazzarol_Polyglot.Notebook.Docfx.Plugin&metric=coverage)](https://sonarcloud.io/summary/new_code?id=bmazzarol_Polyglot.Notebook.Docfx.Plugin)\n",
    "[![Quality Gate Status](https://sonarcloud.io/api/project_badges/measure?project=bmazzarol_Polyglot.Notebook.Docfx.Plugin&metric=alert_status)](https://sonarcloud.io/summary/new_code?id=bmazzarol_Polyglot.Notebook.Docfx.Plugin)\n",
    "[![CD Build](https://github.com/bmazzarol/Polyglot.Notebook.Docfx.Plugin/actions/workflows/cd-build.yml/badge.svg)](https://github.com/bmazzarol/Polyglot.Notebook.Docfx.Plugin/actions/workflows/cd-build.yml)\n",
    "[![Check Markdown](https://github.com/bmazzarol/Polyglot.Notebook.Docfx.Plugin/actions/workflows/check-markdown.yml/badge.svg)](https://github.com/bmazzarol/Polyglot.Notebook.Docfx.Plugin/actions/workflows/check-markdown.yml)\n",
    "\n",
    "Docfx plugin for Polyglot Notebooks :notebook:\n",
    "\n",
    "---\n",
    "\n",
    "</div>\n",
    "<!-- markdownlint-enable MD033 MD041 -->\n",
    "\n",
    "## Why?\n",
    "\n",
    "\n",
    "[Docfx](https://dotnet.github.io/docfx/) \n",
    "is a great tool for creating documentation, but it lacks support for\n",
    "[Polyglot Notebooks](https://marketplace.visualstudio.com/items?itemName=ms-dotnettools.dotnet-interactive-vscode). \n",
    "This plugin aims to fill that gap by providing a way to\n",
    "render\n",
    "[Polyglot Notebooks](https://marketplace.visualstudio.com/items?itemName=ms-dotnettools.dotnet-interactive-vscode)\n",
    "in [Docfx](https://dotnet.github.io/docfx/).\n",
    "\n",
    "Everything\n",
    "[supported by Docfx in markdown files](https://dotnet.github.io/docfx/docs/markdown.html?tabs=linux%2Cdotnet)\n",
    "is also supported in Polyglot Notebooks.\n",
    "\n"
   ]
  }
 ],
 "metadata": {
  "kernelspec": {
   "display_name": ".NET (C#)",
   "language": "C#",
   "name": ".net-csharp"
  },
  "language_info": {
   "name": "python"
  },
  "polyglot_notebook": {
   "kernelInfo": {
    "defaultKernelName": "csharp",
    "items": [
     {
      "aliases": [],
      "name": "csharp"
     }
    ]
   }
  }
 },
 "nbformat": 4,
 "nbformat_minor": 2
}
