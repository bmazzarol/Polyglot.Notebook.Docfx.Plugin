{
 "cells": [
  {
   "cell_type": "markdown",
   "id": "0c9dc750",
   "metadata": {},
   "source": [
    "# Getting Started\n",
    "\n",
    "To use the plugin get the from \n",
    "[nuget](https://www.nuget.org/packages/Polyglot.Notebook.Docfx.Plugin) \n",
    "and extract the `Polyglot.Notebook.Docfx.Plugin.dll` and copy it to the\n",
    "`plugins` folder in your custom template.\n",
    "\n",
    "If you do not have a custom template, add one as per the \n",
    "[docs](https://dotnet.github.io/docfx/docs/template.html?tabs=modern#custom-template).\n",
    "\n",
    "Now just start referencing `.ipynb` files in your `docfx.json` the same\n",
    "way you would `.md` files.\n"
   ]
  }
 ],
 "metadata": {
  "language_info": {
   "name": "python"
  }
 },
 "nbformat": 4,
 "nbformat_minor": 5
}
